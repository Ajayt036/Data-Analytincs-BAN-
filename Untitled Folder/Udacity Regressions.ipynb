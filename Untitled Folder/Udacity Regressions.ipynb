{
 "cells": [
  {
   "cell_type": "markdown",
   "id": "6373eea7",
   "metadata": {},
   "source": [
    "## 1. Scatter Plot Basics:\n",
    "\n",
    "#### A. A scatter plot has three meaures:\n",
    "- Strenth: Strong or Weak\n",
    "- Direction: Positive or negative\n",
    "- Correlation coffiecent : Value\n",
    "\n",
    "\n",
    "\n",
    "\n",
    "#### B. QUESTION: If correlation coffiecent is 0. Does it mean there is no relations ship between two variables?\n",
    " - Answer is False\n",
    " - Correlation coffecent talks about linear relationship only, not general relationship. 0 value means there is no linear relation ship. However there will be some general relationship.\n",
    "\n",
    "\n",
    "\n",
    "#### C. A scatter plot and a correlation coefficient give the same information, so if we have this number, we don't really need a visual anymore.\n",
    "- Answer is False\n",
    "- That's right! Although the correlation coefficient and the scatter plot provide some of the info (details about the strength and direction), often an image provides much more information.\n"
   ]
  },
  {
   "cell_type": "markdown",
   "id": "390d5ade",
   "metadata": {},
   "source": [
    "## 2. Best Fit Line\n",
    "\n",
    "- Mathematics Line equation: Y = MX + C\n",
    "- Popouation poarameter    : Y^ = b1x + b0\n",
    "- Sample Staitsics         : Y^ = B1X + B0\n",
    "\n",
    "- Why did we chnage Y to Y^ where as x remains same?\n",
    "- Ans is because Y^ is a y coordinate on best fit line, where as Y is y cooridnate of one of an actual point in our scatter plot.\n"
   ]
  },
  {
   "cell_type": "code",
   "execution_count": null,
   "id": "98a33ff0",
   "metadata": {},
   "outputs": [],
   "source": []
  }
 ],
 "metadata": {
  "kernelspec": {
   "display_name": "Python 3 (ipykernel)",
   "language": "python",
   "name": "python3"
  },
  "language_info": {
   "codemirror_mode": {
    "name": "ipython",
    "version": 3
   },
   "file_extension": ".py",
   "mimetype": "text/x-python",
   "name": "python",
   "nbconvert_exporter": "python",
   "pygments_lexer": "ipython3",
   "version": "3.8.8"
  }
 },
 "nbformat": 4,
 "nbformat_minor": 5
}
